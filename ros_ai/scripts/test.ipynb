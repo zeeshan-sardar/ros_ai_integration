{
 "cells": [
  {
   "cell_type": "code",
   "execution_count": 1,
   "metadata": {},
   "outputs": [],
   "source": [
    "from flask import Flask, request, Response\n",
    "import jsonpickle\n",
    "import numpy as np\n",
    "import cv2\n",
    "import base64\n",
    "import os\n"
   ]
  },
  {
   "cell_type": "code",
   "execution_count": 2,
   "metadata": {},
   "outputs": [
    {
     "name": "stdout",
     "output_type": "stream",
     "text": [
      "image read in clinet: (675, 1200, 3)\n"
     ]
    }
   ],
   "source": [
    "img = cv2.imread(\"2.jpg\")\n",
    "print('image read in clinet:', img.shape)"
   ]
  },
  {
   "cell_type": "code",
   "execution_count": 11,
   "metadata": {},
   "outputs": [
    {
     "name": "stdout",
     "output_type": "stream",
     "text": [
      "{'messege': '-', 'edges': array([[[ 87,  54,  39],\n",
      "        [ 87,  54,  39],\n",
      "        [ 87,  54,  39],\n",
      "        ...,\n",
      "        [ 87,  55,  42],\n",
      "        [ 87,  55,  42],\n",
      "        [ 87,  55,  42]],\n",
      "\n",
      "       [[ 87,  54,  39],\n",
      "        [ 87,  54,  39],\n",
      "        [ 87,  54,  39],\n",
      "        ...,\n",
      "        [ 87,  55,  42],\n",
      "        [ 87,  55,  42],\n",
      "        [ 87,  55,  42]],\n",
      "\n",
      "       [[ 87,  54,  39],\n",
      "        [ 87,  54,  39],\n",
      "        [ 87,  54,  39],\n",
      "        ...,\n",
      "        [ 87,  55,  42],\n",
      "        [ 87,  55,  42],\n",
      "        [ 87,  55,  42]],\n",
      "\n",
      "       ...,\n",
      "\n",
      "       [[157, 116, 131],\n",
      "        [157, 116, 131],\n",
      "        [157, 116, 131],\n",
      "        ...,\n",
      "        [188, 165, 163],\n",
      "        [188, 165, 163],\n",
      "        [188, 165, 163]],\n",
      "\n",
      "       [[157, 116, 131],\n",
      "        [157, 116, 131],\n",
      "        [157, 116, 131],\n",
      "        ...,\n",
      "        [188, 165, 163],\n",
      "        [188, 165, 163],\n",
      "        [188, 165, 163]],\n",
      "\n",
      "       [[157, 116, 131],\n",
      "        [157, 116, 131],\n",
      "        [157, 116, 131],\n",
      "        ...,\n",
      "        [187, 164, 162],\n",
      "        [187, 164, 162],\n",
      "        [187, 164, 162]]], dtype=uint8), 'point': array([1, 2, 3]), 'status': 200}\n"
     ]
    }
   ],
   "source": [
    "point = np.array([1,2,3])\n",
    "status = 200\n",
    "messege = \"-\"\n",
    "\n",
    "response = {'messege': messege, 'edges': img, 'point': point, 'status': status}\n",
    "\n",
    "response_pickled = jsonpickle.encode(response)\n",
    "\n",
    "response_decoded = jsonpickle.decode(response_pickled)\n",
    "print(response_decoded)\n",
    "# print(response_pickled)"
   ]
  },
  {
   "cell_type": "code",
   "execution_count": 15,
   "metadata": {},
   "outputs": [
    {
     "name": "stdout",
     "output_type": "stream",
     "text": [
      "b'AQAAAAAAAAACAAAAAAAAAAQAAAAAAAAABQAAAAAAAAA=\\n'\n",
      "AQAAAAAAAAACAAAAAAAAAAQAAAAAAAAABQAAAAAAAAA=\n",
      "\n"
     ]
    }
   ],
   "source": [
    "import base64\n",
    "import numpy as np\n",
    "\n",
    "n = np.array([[1,2],[4,5]])\n",
    "x = \"hello world\"\n",
    "# nx = bytes(n)\n",
    "string_img = base64.binascii.b2a_base64(n)\n",
    "\n",
    "print(base64.binascii.b2a_base64(n))\n",
    "print(base64.binascii.b2a_base64(n).decode(\"ascii\"))"
   ]
  }
 ],
 "metadata": {
  "interpreter": {
   "hash": "31f2aee4e71d21fbe5cf8b01ff0e069b9275f58929596ceb00d14d90e3e16cd6"
  },
  "kernelspec": {
   "display_name": "Python 3.6.9 64-bit",
   "language": "python",
   "name": "python3"
  },
  "language_info": {
   "codemirror_mode": {
    "name": "ipython",
    "version": 3
   },
   "file_extension": ".py",
   "mimetype": "text/x-python",
   "name": "python",
   "nbconvert_exporter": "python",
   "pygments_lexer": "ipython3",
   "version": "3.6.9"
  },
  "orig_nbformat": 4
 },
 "nbformat": 4,
 "nbformat_minor": 2
}
